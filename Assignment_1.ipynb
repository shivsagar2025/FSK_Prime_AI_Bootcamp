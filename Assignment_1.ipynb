{
  "nbformat": 4,
  "nbformat_minor": 0,
  "metadata": {
    "colab": {
      "provenance": [],
      "collapsed_sections": [
        "enEJDcTNWjgr",
        "L69QQ76FZ6np",
        "-D9be9lYRgp2"
      ]
    },
    "kernelspec": {
      "name": "python3",
      "display_name": "Python 3"
    },
    "language_info": {
      "name": "python"
    }
  },
  "cells": [
    {
      "cell_type": "markdown",
      "source": [
        "# **Task 1: FizzBuzz with a Twist**\n",
        "\n",
        "**Instruction:** Write a function that prints numbers from 1 to 50. For multiples of 3, print \"AI\", for multiples of 5 print \"Bootcamp\", and for multiples of both 3 and 5 print \"AI Bootcamp\"."
      ],
      "metadata": {
        "id": "enEJDcTNWjgr"
      }
    },
    {
      "cell_type": "code",
      "execution_count": null,
      "metadata": {
        "colab": {
          "base_uri": "https://localhost:8080/"
        },
        "id": "kaMCs5e4Weba",
        "outputId": "9cebeaae-be37-42c4-b0b4-d655e3c6ee9d"
      },
      "outputs": [
        {
          "output_type": "stream",
          "name": "stdout",
          "text": [
            "1\n",
            "2\n",
            "AI\n",
            "4\n",
            "Bootcamp\n",
            "AI\n",
            "7\n",
            "8\n",
            "AI\n",
            "Bootcamp\n",
            "11\n",
            "AI\n",
            "13\n",
            "14\n",
            "AI Bootcamp\n",
            "16\n",
            "17\n",
            "AI\n",
            "19\n",
            "Bootcamp\n",
            "AI\n",
            "22\n",
            "23\n",
            "AI\n",
            "Bootcamp\n",
            "26\n",
            "AI\n",
            "28\n",
            "29\n",
            "AI Bootcamp\n",
            "31\n",
            "32\n",
            "AI\n",
            "34\n",
            "Bootcamp\n",
            "AI\n",
            "37\n",
            "38\n",
            "AI\n",
            "Bootcamp\n",
            "41\n",
            "AI\n",
            "43\n",
            "44\n",
            "AI Bootcamp\n",
            "46\n",
            "47\n",
            "AI\n",
            "49\n",
            "Bootcamp\n"
          ]
        }
      ],
      "source": [
        "def fizzbuzz_ai_bootcamp():\n",
        "    for i in range(1,51):\n",
        "      if(i%3==0 and i%5==0):\n",
        "          print(\"AI Bootcamp\")\n",
        "      elif(i%3==0):\n",
        "        print(\"AI\")\n",
        "      elif(i%5==0):\n",
        "        print(\"Bootcamp\")\n",
        "      else:\n",
        "        print(i)\n",
        "\n",
        "\n",
        "fizzbuzz_ai_bootcamp()"
      ]
    },
    {
      "cell_type": "markdown",
      "source": [
        "## **Task 2: List Comprehensions and Functions**\n",
        "\n",
        "**Instruction:**Given a list of numbers, square only the even numbers using a list comprehension and define a function that returns the result."
      ],
      "metadata": {
        "id": "aS7epn-LX7ip"
      }
    },
    {
      "cell_type": "code",
      "source": [
        "def square_evens(numbers):\n",
        "    square_list=[i**2 for i in numbers if i%2==0]\n",
        "    return square_list\n",
        "\n",
        "print(square_evens([1, 2, 3, 4, 5, 6]))"
      ],
      "metadata": {
        "colab": {
          "base_uri": "https://localhost:8080/"
        },
        "id": "NkQVowEZYGnR",
        "outputId": "513c90d2-a6af-461f-bbd2-a4b3db288389"
      },
      "execution_count": null,
      "outputs": [
        {
          "output_type": "stream",
          "name": "stdout",
          "text": [
            "[4, 16, 36]\n"
          ]
        }
      ]
    },
    {
      "cell_type": "markdown",
      "source": [
        "# **Task 3: Word Frequency from a File**\n",
        "**Instruction:** Read the provided text file (sample.txt) and return the 5 most common words (ignoring punctuation and case)."
      ],
      "metadata": {
        "id": "L69QQ76FZ6np"
      }
    },
    {
      "cell_type": "code",
      "source": [
        "from collections import Counter\n",
        "\n",
        "def top_5_words(filepath):\n",
        "    fp=open(filepath,\"r\")\n",
        "    text=fp.read()\n",
        "    word_list=text.split()\n",
        "    print(word_list)\n",
        "    count=Counter(word_list)\n",
        "    most_common5=count.most_common(5)\n",
        "    for word, count in most_common5:\n",
        "      print(f\"{word}:{count}\")\n",
        "\n",
        "top_5_words('sample_data/README.md')"
      ],
      "metadata": {
        "colab": {
          "base_uri": "https://localhost:8080/"
        },
        "id": "bV4nA0BpaF9Q",
        "outputId": "c1e93bc4-74f8-4318-e85e-c646c88e2fe3"
      },
      "execution_count": null,
      "outputs": [
        {
          "output_type": "stream",
          "name": "stdout",
          "text": [
            "['This', 'directory', 'includes', 'a', 'few', 'sample', 'datasets', 'to', 'get', 'you', 'started.', '*', '`california_housing_data*.csv`', 'is', 'California', 'housing', 'data', 'from', 'the', '1990', 'US', 'Census;', 'more', 'information', 'is', 'available', 'at:', 'https://docs.google.com/document/d/e/2PACX-1vRhYtsvc5eOR2FWNCwaBiKL6suIOrxJig8LcSBbmCbyYsayia_DvPOOBlXZ4CAlQ5nlDD8kTaIDRwrN/pub', '*', '`mnist_*.csv`', 'is', 'a', 'small', 'sample', 'of', 'the', '[MNIST', 'database](https://en.wikipedia.org/wiki/MNIST_database),', 'which', 'is', 'described', 'at:', 'http://yann.lecun.com/exdb/mnist/', '*', '`anscombe.json`', 'contains', 'a', 'copy', 'of', \"[Anscombe's\", 'quartet](https://en.wikipedia.org/wiki/Anscombe%27s_quartet);', 'it', 'was', 'originally', 'described', 'in', 'Anscombe,', 'F.', 'J.', '(1973).', \"'Graphs\", 'in', 'Statistical', \"Analysis'.\", 'American', 'Statistician.', '27', '(1):', '17-21.', 'JSTOR', '2682899.', 'and', 'our', 'copy', 'was', 'prepared', 'by', 'the', '[vega_datasets', 'library](https://github.com/altair-viz/vega_datasets/blob/4f67bdaad10f45e3549984e17e1b3088c731503d/vega_datasets/_data/anscombe.json).']\n",
            "is:4\n",
            "a:3\n",
            "*:3\n",
            "the:3\n",
            "sample:2\n"
          ]
        }
      ]
    },
    {
      "cell_type": "markdown",
      "source": [
        "# **Task 4: NumPy Matrix Magic**\n",
        "**Instruction:**Create a 5x5 matrix with random integers from 1 to 10. Replace all elements greater than 5 with 0."
      ],
      "metadata": {
        "id": "-D9be9lYRgp2"
      }
    },
    {
      "cell_type": "code",
      "source": [
        "import numpy as np\n",
        "from random import randint\n",
        "def matrix_transform(matrix):\n",
        "    t_matrix=[[0 if i>5 else i for i in j] for j in matrix]\n",
        "    print(\"new matrix\")\n",
        "    for i in t_matrix:\n",
        "      print(i)\n",
        "matrix=[[randint(1,10) for i in range(5)] for i in range(5)]\n",
        "print(\"Original Matrix\")\n",
        "for i in matrix:\n",
        "  print(i)\n",
        "matrix_transform(matrix)"
      ],
      "metadata": {
        "colab": {
          "base_uri": "https://localhost:8080/"
        },
        "id": "3y4n3WeIRpxe",
        "outputId": "6637ae57-8014-43bb-9acc-107068136c9e"
      },
      "execution_count": null,
      "outputs": [
        {
          "output_type": "stream",
          "name": "stdout",
          "text": [
            "Original Matrix\n",
            "[10, 4, 10, 3, 4]\n",
            "[4, 7, 1, 8, 2]\n",
            "[8, 7, 6, 1, 3]\n",
            "[5, 1, 9, 1, 2]\n",
            "[2, 7, 2, 3, 2]\n",
            "new matrix\n",
            "[0, 4, 0, 3, 4]\n",
            "[4, 0, 1, 0, 2]\n",
            "[0, 0, 0, 1, 3]\n",
            "[5, 1, 0, 1, 2]\n",
            "[2, 0, 2, 3, 2]\n"
          ]
        }
      ]
    },
    {
      "cell_type": "markdown",
      "source": [
        "# **Task 5: pandas DataFrame Manipulation**\n",
        "**Instruction:** Given the following dictionary, convert it into a DataFrame, calculate the average score per student, and add it as a new column."
      ],
      "metadata": {
        "id": "HJPa5MHzMzv0"
      }
    },
    {
      "cell_type": "code",
      "source": [
        "import pandas as pd\n",
        "\n",
        "data = {\n",
        "    'Name': ['Alice', 'Bob', 'Charlie'],\n",
        "    'Math': [85, 78, 92],\n",
        "    'Science': [90, 88, 84],\n",
        "    'English': [87, 85, 80]\n",
        "}\n",
        "\n",
        "df=pd.DataFrame(data)\n",
        "df[\"Average\"]=df[[\"Math\",\"Science\",\"English\"]].mean(axis=1)\n",
        "print(df)"
      ],
      "metadata": {
        "colab": {
          "base_uri": "https://localhost:8080/"
        },
        "id": "F7-PBsg1M2ub",
        "outputId": "44637644-76ea-443d-d400-a60bc10dddc4"
      },
      "execution_count": null,
      "outputs": [
        {
          "output_type": "stream",
          "name": "stdout",
          "text": [
            "      Name  Math  Science  English  Average\n",
            "0    Alice    85       90       87      NaN\n",
            "1      Bob    78       88       85      NaN\n",
            "2  Charlie    92       84       80      NaN\n"
          ]
        }
      ]
    },
    {
      "cell_type": "markdown",
      "source": [
        "## **Task 6: Simple Data Visualization**\n",
        "**Instruction:** Use matplotlib to create a bar chart showing the average score per subject from the DataFrame in the previous task."
      ],
      "metadata": {
        "id": "di0lSRPbQ60a"
      }
    },
    {
      "cell_type": "code",
      "source": [
        "import matplotlib.pyplot as plt\n",
        "averages=df[[\"Math\",\"Science\",\"English\"]].mean()\n",
        "print(averages)\n",
        "plt.figure(figsize=(5, 3))\n",
        "plt.bar(averages.index, averages.values, color='green')"
      ],
      "metadata": {
        "colab": {
          "base_uri": "https://localhost:8080/",
          "height": 378
        },
        "id": "ZIW2l8PTRIgq",
        "outputId": "be563c27-b80d-4d5f-fcdc-3fc167d6fb8a"
      },
      "execution_count": null,
      "outputs": [
        {
          "output_type": "stream",
          "name": "stdout",
          "text": [
            "Math       85.000000\n",
            "Science    87.333333\n",
            "English    84.000000\n",
            "dtype: float64\n"
          ]
        },
        {
          "output_type": "execute_result",
          "data": {
            "text/plain": [
              "<BarContainer object of 3 artists>"
            ]
          },
          "metadata": {},
          "execution_count": 36
        },
        {
          "output_type": "display_data",
          "data": {
            "text/plain": [
              "<Figure size 500x300 with 1 Axes>"
            ],
            "image/png": "[encoded data removed]"
          },
          "metadata": {}
        }
      ]
    },
    {
      "cell_type": "markdown",
      "source": [
        "# **Task 7: Build a Mini Calculator with Exception Handling**\n",
        "**Instruction:** Write a function that takes two numbers and an operator as input (+, -, *, /). Return the result, and handle divide-by-zero and invalid operator cases with appropriate error messages.\n",
        "\n"
      ],
      "metadata": {
        "id": "iZk4WYTLVsmp"
      }
    },
    {
      "cell_type": "code",
      "source": [
        "from ast import NotIn\n",
        "def calculator(a, b, operator):\n",
        "  if(operator in [\"/\",\"+\",\"*\",\"-\"]):\n",
        "    if(b==0 and operator==\"/\"):\n",
        "      print(\"Error:Divided by Zero ->\",\"Enter Right Value\")\n",
        "      return False\n",
        "    else:\n",
        "      return(eval(str(a)+str(operator)+str(b)))\n",
        "  else:\n",
        "    print(\"Enter Right Operator +-*/\")\n",
        "    return False\n",
        "# Example:\n",
        "calculator(10, 1, '+')"
      ],
      "metadata": {
        "colab": {
          "base_uri": "https://localhost:8080/"
        },
        "id": "_KHYVsTDVx8R",
        "outputId": "055ab30f-3609-40b2-ddd8-ae75464f24d6"
      },
      "execution_count": null,
      "outputs": [
        {
          "output_type": "execute_result",
          "data": {
            "text/plain": [
              "11"
            ]
          },
          "metadata": {},
          "execution_count": 53
        }
      ]
    },
    {
      "cell_type": "code",
      "source": [],
      "metadata": {
        "id": "gKCbsF4dX0VQ"
      },
      "execution_count": null,
      "outputs": []
    }
  ]
}