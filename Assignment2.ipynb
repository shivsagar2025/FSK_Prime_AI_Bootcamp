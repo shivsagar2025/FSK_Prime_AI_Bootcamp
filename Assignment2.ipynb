{
  "nbformat": 4,
  "nbformat_minor": 0,
  "metadata": {
    "colab": {
      "provenance": []
    },
    "kernelspec": {
      "name": "python3",
      "display_name": "Python 3"
    },
    "language_info": {
      "name": "python"
    }
  },
  "cells": [
    {
      "cell_type": "markdown",
      "source": [
        "# **Task 1: Load and Inspect a Dataset**\n",
        "*Instruction:* Load the titanic.csv dataset and display the first 5 rows. Show basic info and describe statistics of the dataset.\n"
      ],
      "metadata": {
        "id": "P8JNQ0c7CTW2"
      }
    },
    {
      "cell_type": "code",
      "source": [
        "import pandas as pd\n",
        "\n",
        "df = pd.read_csv('titanic.csv')\n",
        "print(df.head(50))\n",
        "print(df.info())\n",
        "print(df.describe())"
      ],
      "metadata": {
        "colab": {
          "base_uri": "https://localhost:8080/"
        },
        "id": "vIIX-ql6Cc8l",
        "outputId": "a1af1078-dd2f-4302-eaa4-a7e3e0f2fe2d"
      },
      "execution_count": 21,
      "outputs": [
        {
          "output_type": "stream",
          "name": "stdout",
          "text": [
            "    Survived  Pclass                                               Name  \\\n",
            "0          0       3                             Mr. Owen Harris Braund   \n",
            "1          1       1  Mrs. John Bradley (Florence Briggs Thayer) Cum...   \n",
            "2          1       3                              Miss. Laina Heikkinen   \n",
            "3          1       1        Mrs. Jacques Heath (Lily May Peel) Futrelle   \n",
            "4          0       3                            Mr. William Henry Allen   \n",
            "5          0       3                                    Mr. James Moran   \n",
            "6          0       1                             Mr. Timothy J McCarthy   \n",
            "7          0       3                      Master. Gosta Leonard Palsson   \n",
            "8          1       3   Mrs. Oscar W (Elisabeth Vilhelmina Berg) Johnson   \n",
            "9          1       2                 Mrs. Nicholas (Adele Achem) Nasser   \n",
            "10         1       3                     Miss. Marguerite Rut Sandstrom   \n",
            "11         1       1                            Miss. Elizabeth Bonnell   \n",
            "12         0       3                      Mr. William Henry Saundercock   \n",
            "13         0       3                         Mr. Anders Johan Andersson   \n",
            "14         0       3                Miss. Hulda Amanda Adolfina Vestrom   \n",
            "15         1       2                     Mrs. (Mary D Kingcome) Hewlett   \n",
            "16         0       3                                Master. Eugene Rice   \n",
            "17         1       2                        Mr. Charles Eugene Williams   \n",
            "18         0       3  Mrs. Julius (Emelia Maria Vandemoortele) Vande...   \n",
            "19         1       3                             Mrs. Fatima Masselmani   \n",
            "20         0       2                                Mr. Joseph J Fynney   \n",
            "21         1       2                               Mr. Lawrence Beesley   \n",
            "22         1       3                                 Miss. Anna McGowan   \n",
            "23         1       1                        Mr. William Thompson Sloper   \n",
            "24         0       3                       Miss. Torborg Danira Palsson   \n",
            "25         1       3  Mrs. Carl Oscar (Selma Augusta Emilia Johansso...   \n",
            "26         0       3                             Mr. Farred Chehab Emir   \n",
            "27         0       1                      Mr. Charles Alexander Fortune   \n",
            "28         1       3                                Miss. Ellen O'Dwyer   \n",
            "29         0       3                                 Mr. Lalio Todoroff   \n",
            "30         0       1                            Don. Manuel E Uruchurtu   \n",
            "31         1       1      Mrs. William Augustus (Marie Eugenie) Spencer   \n",
            "32         1       3                            Miss. Mary Agatha Glynn   \n",
            "33         0       2                               Mr. Edward H Wheadon   \n",
            "34         0       1                             Mr. Edgar Joseph Meyer   \n",
            "35         0       1                      Mr. Alexander Oskar Holverson   \n",
            "36         1       3                                    Mr. Hanna Mamee   \n",
            "37         0       3                            Mr. Ernest Charles Cann   \n",
            "38         0       3                  Miss. Augusta Maria Vander Planke   \n",
            "39         1       3                         Miss. Jamila Nicola-Yarred   \n",
            "40         0       3      Mrs. Johan (Johanna Persdotter Larsson) Ahlin   \n",
            "41         0       2  Mrs. William John Robert (Dorothy Ann Wonnacot...   \n",
            "42         1       2            Miss. Simonne Marie Anne Andree Laroche   \n",
            "43         1       3                       Miss. Margaret Delia Devaney   \n",
            "44         0       3                            Mr. William John Rogers   \n",
            "45         0       3                                   Mr. Denis Lennon   \n",
            "46         1       3                           Miss. Bridget O'Driscoll   \n",
            "47         0       3                                 Mr. Youssef Samaan   \n",
            "48         0       3       Mrs. Josef (Josefine Franchi) Arnold-Franchi   \n",
            "49         0       3                          Master. Juha Niilo Panula   \n",
            "\n",
            "       Sex   Age  Siblings/Spouses Aboard  Parents/Children Aboard      Fare  \n",
            "0     male  22.0                        1                        0    7.2500  \n",
            "1   female  38.0                        1                        0   71.2833  \n",
            "2   female  26.0                        0                        0    7.9250  \n",
            "3   female  35.0                        1                        0   53.1000  \n",
            "4     male  35.0                        0                        0    8.0500  \n",
            "5     male  27.0                        0                        0    8.4583  \n",
            "6     male  54.0                        0                        0   51.8625  \n",
            "7     male   2.0                        3                        1   21.0750  \n",
            "8   female  27.0                        0                        2   11.1333  \n",
            "9   female  14.0                        1                        0   30.0708  \n",
            "10  female   4.0                        1                        1   16.7000  \n",
            "11  female  58.0                        0                        0   26.5500  \n",
            "12    male  20.0                        0                        0    8.0500  \n",
            "13    male  39.0                        1                        5   31.2750  \n",
            "14  female  14.0                        0                        0    7.8542  \n",
            "15  female  55.0                        0                        0   16.0000  \n",
            "16    male   2.0                        4                        1   29.1250  \n",
            "17    male  23.0                        0                        0   13.0000  \n",
            "18  female  31.0                        1                        0   18.0000  \n",
            "19  female  22.0                        0                        0    7.2250  \n",
            "20    male  35.0                        0                        0   26.0000  \n",
            "21    male  34.0                        0                        0   13.0000  \n",
            "22  female  15.0                        0                        0    8.0292  \n",
            "23    male  28.0                        0                        0   35.5000  \n",
            "24  female   8.0                        3                        1   21.0750  \n",
            "25  female  38.0                        1                        5   31.3875  \n",
            "26    male  26.0                        0                        0    7.2250  \n",
            "27    male  19.0                        3                        2  263.0000  \n",
            "28  female  24.0                        0                        0    7.8792  \n",
            "29    male  23.0                        0                        0    7.8958  \n",
            "30    male  40.0                        0                        0   27.7208  \n",
            "31  female  48.0                        1                        0  146.5208  \n",
            "32  female  18.0                        0                        0    7.7500  \n",
            "33    male  66.0                        0                        0   10.5000  \n",
            "34    male  28.0                        1                        0   82.1708  \n",
            "35    male  42.0                        1                        0   52.0000  \n",
            "36    male  18.0                        0                        0    7.2292  \n",
            "37    male  21.0                        0                        0    8.0500  \n",
            "38  female  18.0                        2                        0   18.0000  \n",
            "39  female  14.0                        1                        0   11.2417  \n",
            "40  female  40.0                        1                        0    9.4750  \n",
            "41  female  27.0                        1                        0   21.0000  \n",
            "42  female   3.0                        1                        2   41.5792  \n",
            "43  female  19.0                        0                        0    7.8792  \n",
            "44    male  30.0                        0                        0    8.0500  \n",
            "45    male  20.0                        1                        0   15.5000  \n",
            "46  female  27.0                        0                        0    7.7500  \n",
            "47    male  16.0                        2                        0   21.6792  \n",
            "48  female  18.0                        1                        0   17.8000  \n",
            "49    male   7.0                        4                        1   39.6875  \n",
            "<class 'pandas.core.frame.DataFrame'>\n",
            "RangeIndex: 887 entries, 0 to 886\n",
            "Data columns (total 8 columns):\n",
            " #   Column                   Non-Null Count  Dtype  \n",
            "---  ------                   --------------  -----  \n",
            " 0   Survived                 887 non-null    int64  \n",
            " 1   Pclass                   887 non-null    int64  \n",
            " 2   Name                     887 non-null    object \n",
            " 3   Sex                      887 non-null    object \n",
            " 4   Age                      887 non-null    float64\n",
            " 5   Siblings/Spouses Aboard  887 non-null    int64  \n",
            " 6   Parents/Children Aboard  887 non-null    int64  \n",
            " 7   Fare                     887 non-null    float64\n",
            "dtypes: float64(2), int64(4), object(2)\n",
            "memory usage: 55.6+ KB\n",
            "None\n",
            "         Survived      Pclass         Age  Siblings/Spouses Aboard  \\\n",
            "count  887.000000  887.000000  887.000000               887.000000   \n",
            "mean     0.385569    2.305524   29.471443                 0.525366   \n",
            "std      0.487004    0.836662   14.121908                 1.104669   \n",
            "min      0.000000    1.000000    0.420000                 0.000000   \n",
            "25%      0.000000    2.000000   20.250000                 0.000000   \n",
            "50%      0.000000    3.000000   28.000000                 0.000000   \n",
            "75%      1.000000    3.000000   38.000000                 1.000000   \n",
            "max      1.000000    3.000000   80.000000                 8.000000   \n",
            "\n",
            "       Parents/Children Aboard       Fare  \n",
            "count               887.000000  887.00000  \n",
            "mean                  0.383315   32.30542  \n",
            "std                   0.807466   49.78204  \n",
            "min                   0.000000    0.00000  \n",
            "25%                   0.000000    7.92500  \n",
            "50%                   0.000000   14.45420  \n",
            "75%                   0.000000   31.13750  \n",
            "max                   6.000000  512.32920  \n"
          ]
        }
      ]
    },
    {
      "cell_type": "markdown",
      "source": [
        "# **Task 2: Identify and Handle Missing Data**\n",
        "*Instruction:*\n",
        "\n",
        "Display the number of missing values per column.\n",
        "\n",
        "Fill missing Age values with the median.\n",
        "\n",
        "Drop the second row in the dataset.\n"
      ],
      "metadata": {
        "id": "5tkWwHBhDg2V"
      }
    },
    {
      "cell_type": "code",
      "source": [
        "import pandas as pd\n",
        "\n",
        "df = pd.read_csv('titanic.csv')\n",
        "print(df.isnull().sum())\n",
        "df['Age'].fillna(df['Age'].median(), inplace=True)\n",
        "df.drop(index=1, inplace=True)\n",
        "print(df.head())"
      ],
      "metadata": {
        "colab": {
          "base_uri": "https://localhost:8080/"
        },
        "id": "_McfFuHuDrnt",
        "outputId": "5f40b076-7ff9-4588-84f0-444a8eda3217"
      },
      "execution_count": 20,
      "outputs": [
        {
          "output_type": "stream",
          "name": "stdout",
          "text": [
            "Survived                   0\n",
            "Pclass                     0\n",
            "Name                       0\n",
            "Sex                        0\n",
            "Age                        0\n",
            "Siblings/Spouses Aboard    0\n",
            "Parents/Children Aboard    0\n",
            "Fare                       0\n",
            "dtype: int64\n",
            "   Survived  Pclass                                         Name     Sex  \\\n",
            "0         0       3                       Mr. Owen Harris Braund    male   \n",
            "2         1       3                        Miss. Laina Heikkinen  female   \n",
            "3         1       1  Mrs. Jacques Heath (Lily May Peel) Futrelle  female   \n",
            "4         0       3                      Mr. William Henry Allen    male   \n",
            "5         0       3                              Mr. James Moran    male   \n",
            "\n",
            "    Age  Siblings/Spouses Aboard  Parents/Children Aboard     Fare  \n",
            "0  22.0                        1                        0   7.2500  \n",
            "2  26.0                        0                        0   7.9250  \n",
            "3  35.0                        1                        0  53.1000  \n",
            "4  35.0                        0                        0   8.0500  \n",
            "5  27.0                        0                        0   8.4583  \n"
          ]
        },
        {
          "output_type": "stream",
          "name": "stderr",
          "text": [
            "<ipython-input-20-867d50f8bee0>:5: FutureWarning: A value is trying to be set on a copy of a DataFrame or Series through chained assignment using an inplace method.\n",
            "The behavior will change in pandas 3.0. This inplace method will never work because the intermediate object on which we are setting values always behaves as a copy.\n",
            "\n",
            "For example, when doing 'df[col].method(value, inplace=True)', try using 'df.method({col: value}, inplace=True)' or df[col] = df[col].method(value) instead, to perform the operation inplace on the original object.\n",
            "\n",
            "\n",
            "  df['Age'].fillna(df['Age'].median(), inplace=True)\n"
          ]
        }
      ]
    },
    {
      "cell_type": "markdown",
      "source": [
        "# **ask 3: Convert Categorical to Numeric**\n",
        "*Instruction:* Convert Sex and Pclass columns to numeric using:\n",
        "\n",
        "Label Encoding for Sex\n",
        "One-Hot Encoding for Pclass\n",
        "\n"
      ],
      "metadata": {
        "id": "17GuFkCFMcVi"
      }
    },
    {
      "cell_type": "code",
      "source": [
        "import pandas as pd\n",
        "from sklearn.preprocessing import LabelEncoder\n",
        "\n",
        "df = pd.read_csv('titanic.csv')\n",
        "df['Age'].fillna(df['Age'].median(), inplace=True)\n",
        "df.drop(index=1, inplace=True)\n",
        "\n",
        "le = LabelEncoder()\n",
        "df['Sex'] = le.fit_transform(df['Sex'])\n",
        "\n",
        "df = pd.get_dummies(df, columns=['Pclass'])\n",
        "\n",
        "print(df.head())"
      ],
      "metadata": {
        "colab": {
          "base_uri": "https://localhost:8080/"
        },
        "id": "aOfF2jLdMjpC",
        "outputId": "55987c7c-4846-419f-e854-14d864ff12fd"
      },
      "execution_count": 22,
      "outputs": [
        {
          "output_type": "stream",
          "name": "stdout",
          "text": [
            "   Survived                                         Name  Sex   Age  \\\n",
            "0         0                       Mr. Owen Harris Braund    1  22.0   \n",
            "2         1                        Miss. Laina Heikkinen    0  26.0   \n",
            "3         1  Mrs. Jacques Heath (Lily May Peel) Futrelle    0  35.0   \n",
            "4         0                      Mr. William Henry Allen    1  35.0   \n",
            "5         0                              Mr. James Moran    1  27.0   \n",
            "\n",
            "   Siblings/Spouses Aboard  Parents/Children Aboard     Fare  Pclass_1  \\\n",
            "0                        1                        0   7.2500     False   \n",
            "2                        0                        0   7.9250     False   \n",
            "3                        1                        0  53.1000      True   \n",
            "4                        0                        0   8.0500     False   \n",
            "5                        0                        0   8.4583     False   \n",
            "\n",
            "   Pclass_2  Pclass_3  \n",
            "0     False      True  \n",
            "2     False      True  \n",
            "3     False     False  \n",
            "4     False      True  \n",
            "5     False      True  \n"
          ]
        },
        {
          "output_type": "stream",
          "name": "stderr",
          "text": [
            "<ipython-input-22-4bdbf19efa3b>:5: FutureWarning: A value is trying to be set on a copy of a DataFrame or Series through chained assignment using an inplace method.\n",
            "The behavior will change in pandas 3.0. This inplace method will never work because the intermediate object on which we are setting values always behaves as a copy.\n",
            "\n",
            "For example, when doing 'df[col].method(value, inplace=True)', try using 'df.method({col: value}, inplace=True)' or df[col] = df[col].method(value) instead, to perform the operation inplace on the original object.\n",
            "\n",
            "\n",
            "  df['Age'].fillna(df['Age'].median(), inplace=True)\n"
          ]
        }
      ]
    },
    {
      "cell_type": "markdown",
      "source": [
        "# **Task 4: Scale Numerical Features**\n",
        "*Instruction:* Use StandardScaler to scale the Age and Fare columns.italicized text"
      ],
      "metadata": {
        "id": "_3U6GSg-NC4i"
      }
    },
    {
      "cell_type": "code",
      "source": [
        "import pandas as pd\n",
        "from sklearn.preprocessing import LabelEncoder, StandardScaler\n",
        "\n",
        "df = pd.read_csv('titanic.csv')\n",
        "df['Age'].fillna(df['Age'].median(), inplace=True)\n",
        "df.drop(index=1, inplace=True)\n",
        "\n",
        "le = LabelEncoder()\n",
        "df['Sex'] = le.fit_transform(df['Sex'])\n",
        "\n",
        "df = pd.get_dummies(df, columns=['Pclass'])\n",
        "\n",
        "scaler = StandardScaler()\n",
        "df[['Age', 'Fare']] = scaler.fit_transform(df[['Age', 'Fare']])\n",
        "\n",
        "print(df[['Age', 'Fare']].head())"
      ],
      "metadata": {
        "colab": {
          "base_uri": "https://localhost:8080/"
        },
        "id": "IEtAUGIXNKo6",
        "outputId": "e7898a77-ec08-4342-fd52-bb97fe567644"
      },
      "execution_count": 23,
      "outputs": [
        {
          "output_type": "stream",
          "name": "stdout",
          "text": [
            "        Age      Fare\n",
            "0 -0.528495 -0.502593\n",
            "2 -0.245189 -0.489029\n",
            "3  0.392250  0.418741\n",
            "4  0.392250 -0.486517\n",
            "5 -0.174362 -0.478313\n"
          ]
        },
        {
          "output_type": "stream",
          "name": "stderr",
          "text": [
            "<ipython-input-23-03d2ef59c1e4>:5: FutureWarning: A value is trying to be set on a copy of a DataFrame or Series through chained assignment using an inplace method.\n",
            "The behavior will change in pandas 3.0. This inplace method will never work because the intermediate object on which we are setting values always behaves as a copy.\n",
            "\n",
            "For example, when doing 'df[col].method(value, inplace=True)', try using 'df.method({col: value}, inplace=True)' or df[col] = df[col].method(value) instead, to perform the operation inplace on the original object.\n",
            "\n",
            "\n",
            "  df['Age'].fillna(df['Age'].median(), inplace=True)\n"
          ]
        }
      ]
    },
    {
      "cell_type": "markdown",
      "source": [
        "# **Task 5: Build Preprocessing Pipeline**\n",
        "*Instruction:* Using ColumnTransformer and Pipeline from sklearn, build a pipeline that:\n",
        "\n",
        "Imputes missing values\n",
        "Scales numeric data\n",
        "Encodes categorical data"
      ],
      "metadata": {
        "id": "-5osJY_PNZla"
      }
    },
    {
      "cell_type": "code",
      "source": [
        "import pandas as pd\n",
        "from sklearn.compose import ColumnTransformer\n",
        "from sklearn.pipeline import Pipeline\n",
        "from sklearn.impute import SimpleImputer\n",
        "from sklearn.preprocessing import StandardScaler, LabelEncoder, OneHotEncoder\n",
        "\n",
        "# Load dataset\n",
        "df = pd.read_csv('titanic.csv')\n",
        "\n",
        "# Define the pipeline for numeric features\n",
        "numeric_features = ['Age', 'Fare']\n",
        "numeric_transformer = Pipeline(steps=[\n",
        "    ('imputer', SimpleImputer(strategy='median')),  # Impute missing values with the median\n",
        "    ('scaler', StandardScaler())  # Scale the numeric features\n",
        "])\n",
        "\n",
        "# Define the pipeline for categorical features\n",
        "categorical_features = ['Sex', 'Pclass']\n",
        "categorical_transformer = ColumnTransformer(\n",
        "    transformers=[\n",
        "        ('sex', Pipeline(steps=[('imputer', SimpleImputer(strategy='most_frequent'))]), ['Sex']),  # Impute missing values and Label Encode 'Sex'\n",
        "        ('pclass', OneHotEncoder(), ['Pclass'])  # One-Hot encoding for 'Pclass'\n",
        "    ]\n",
        ")\n",
        "\n",
        "# Combine both pipelines into one full pipeline\n",
        "preprocessor = ColumnTransformer(\n",
        "    transformers=[\n",
        "        ('num', numeric_transformer, numeric_features),\n",
        "        ('cat', categorical_transformer, categorical_features)\n",
        "    ]\n",
        ")\n",
        "\n",
        "# Apply the pipeline to the data\n",
        "df_transformed = preprocessor.fit_transform(df)\n",
        "\n",
        "print(df_transformed)"
      ],
      "metadata": {
        "colab": {
          "base_uri": "https://localhost:8080/"
        },
        "id": "8le9QlT2NehC",
        "outputId": "52f845ed-c1b5-4428-95fe-d080e784d755"
      },
      "execution_count": 30,
      "outputs": [
        {
          "output_type": "stream",
          "name": "stdout",
          "text": [
            "[[-0.529366007257325 -0.5035863459797053 'male' 0.0 0.0 1.0]\n",
            " [0.6042645431881828 0.7834124485273979 'female' 1.0 0.0 0.0]\n",
            " [-0.24595836964594797 -0.4900195895218577 'female' 0.0 0.0 1.0]\n",
            " ...\n",
            " [-1.5921446482999884 -0.1779841909913622 'female' 0.0 0.0 1.0]\n",
            " [-0.24595836964594797 -0.04633640610409999 'male' 1.0 0.0 0.0]\n",
            " [0.1791530867711174 -0.49353689675167006 'male' 0.0 0.0 1.0]]\n"
          ]
        }
      ]
    },
    {
      "cell_type": "markdown",
      "source": [
        "# **Task 6: Create a New Feature**\n",
        "*Instruction:* Create a new feature FamilySize = Siblings/Spouses Aboard + Parents/Children Aboard + 1."
      ],
      "metadata": {
        "id": "5MpI_PL3P8Bq"
      }
    },
    {
      "cell_type": "code",
      "source": [
        "import pandas as pd\n",
        "\n",
        "# Load dataset\n",
        "df = pd.read_csv('titanic.csv')\n",
        "\n",
        "# Create the new feature 'FamilySize'\n",
        "df['FamilySize'] = df['Siblings/Spouses Aboard'] + df['Parents/Children Aboard'] + 1\n",
        "\n",
        "# Display the updated DataFrame\n",
        "print(df[['Siblings/Spouses Aboard', 'Parents/Children Aboard', 'FamilySize']].head())"
      ],
      "metadata": {
        "colab": {
          "base_uri": "https://localhost:8080/"
        },
        "id": "-FQkAx7fQBXq",
        "outputId": "847e9d0f-c413-4d5b-b2e6-72741b2b7e7e"
      },
      "execution_count": 31,
      "outputs": [
        {
          "output_type": "stream",
          "name": "stdout",
          "text": [
            "   Siblings/Spouses Aboard  Parents/Children Aboard  FamilySize\n",
            "0                        1                        0           2\n",
            "1                        1                        0           2\n",
            "2                        0                        0           1\n",
            "3                        1                        0           2\n",
            "4                        0                        0           1\n"
          ]
        }
      ]
    }
  ]
}