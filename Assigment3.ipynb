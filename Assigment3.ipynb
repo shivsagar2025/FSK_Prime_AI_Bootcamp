{
 "cells": [
  {
   "cell_type": "markdown",
   "metadata": {
    "id": "L982FdumDCVn"
   },
   "source": [
    "# Task 3: Introduction to Machine Learning"
   ]
  },
  {
   "cell_type": "markdown",
   "metadata": {
    "id": "gk9AwRFXDO6n"
   },
   "source": [
    "## Section 1: Setup & Dataset"
   ]
  },
  {
   "cell_type": "markdown",
   "metadata": {
    "id": "tG2LLFb4DSrf"
   },
   "source": [
    "### **Task 1**: Load the Dataset\n",
    "\n",
    "*Instruction*: Load the preprocessed Titanic dataset (from the previous module or load again if needed). Separate it into features (`X`) and target (`y`, where target = `Survived`)."
   ]
  },
  {
   "cell_type": "code",
   "execution_count": 12,
   "metadata": {
    "id": "G6YtbgenDSWH"
   },
   "outputs": [],
   "source": [
    "import pandas as pd\n",
    "from sklearn.model_selection import train_test_split\n",
    "from sklearn.linear_model import LogisticRegression\n",
    "from sklearn.metrics import accuracy_score, confusion_matrix, classification_report\n",
    "\n",
    "df = pd.read_csv('titanic_preprocessed.csv')\n",
    "\n",
    "columns_to_drop = ['Name', 'Ticket', 'Cabin']\n",
    "df = df.drop(columns=[col for col in columns_to_drop if col in df.columns])\n",
    "\n",
    "df = pd.get_dummies(df, drop_first=True)\n",
    "\n",
    "X = df.drop('Survived', axis=1)\n",
    "y = df['Survived']"
   ]
  },
  {
   "cell_type": "markdown",
   "metadata": {
    "id": "03CKwCBtDzRL"
   },
   "source": [
    "## Section 2: Splitting the Data"
   ]
  },
  {
   "cell_type": "markdown",
   "metadata": {
    "id": "oh1W_9m5DuzF"
   },
   "source": [
    "### **Task 2**: Train/Test Split\n",
    "\n",
    "*Instruction*:\n",
    "\n",
    "Split the dataset into training and testing sets (80/20 split).\n"
   ]
  },
  {
   "cell_type": "code",
   "execution_count": 13,
   "metadata": {
    "id": "SQTsWR6GDn6e"
   },
   "outputs": [],
   "source": [
    "\n",
    "from sklearn.model_selection import train_test_split\n",
    "\n",
    "X_train, X_test, y_train, y_test = train_test_split(X, y, test_size=0.2, random_state=42)\n"
   ]
  },
  {
   "cell_type": "markdown",
   "metadata": {
    "id": "mVV1BgZvEE3a"
   },
   "source": [
    "## Section 3: Train Your First Model"
   ]
  },
  {
   "cell_type": "markdown",
   "metadata": {
    "id": "opUK7Z7LEIr4"
   },
   "source": [
    "### **Task 3**: Logistic Regression\n",
    "\n",
    "*Instruction*: Train a Logistic Regression model on the Titanic dataset. Display accuracy on both train and test sets.\n",
    "\n"
   ]
  },
  {
   "cell_type": "code",
   "execution_count": 7,
   "metadata": {
    "id": "UW3FMdjQEEl3"
   },
   "outputs": [
    {
     "name": "stdout",
     "output_type": "stream",
     "text": [
      "Train Accuracy: 0.8177966101694916\n",
      "Test Accuracy: 0.7752808988764045\n"
     ]
    }
   ],
   "source": [
    "from sklearn.linear_model import LogisticRegression\n",
    "from sklearn.metrics import accuracy_score\n",
    "\n",
    "logreg = LogisticRegression(max_iter=1000)\n",
    "logreg.fit(X_train, y_train)\n",
    "\n",
    "y_pred_train = logreg.predict(X_train)\n",
    "y_pred_test = logreg.predict(X_test)\n",
    "\n",
    "print(\"Train Accuracy:\", accuracy_score(y_train, y_pred_train))\n",
    "print(\"Test Accuracy:\", accuracy_score(y_test, y_pred_test))\n"
   ]
  },
  {
   "cell_type": "markdown",
   "metadata": {
    "id": "GNO0DPi3EpgF"
   },
   "source": [
    "## Section 4: Model Evaluation"
   ]
  },
  {
   "cell_type": "markdown",
   "metadata": {
    "id": "W74DNGaJEtdj"
   },
   "source": [
    "### **Task 4**: Confusion Matrix & Classification Report\n",
    "\n",
    "*Instruction*: Evaluate the model using confusion matrix and classification report."
   ]
  },
  {
   "cell_type": "code",
   "execution_count": 14,
   "metadata": {
    "id": "aM8iWEAXEOmE"
   },
   "outputs": [
    {
     "name": "stdout",
     "output_type": "stream",
     "text": [
      "Confusion Matrix (Logistic Regression):\n",
      "[[81 15]\n",
      " [25 57]]\n",
      "\n",
      "Classification Report (Logistic Regression):\n",
      "              precision    recall  f1-score   support\n",
      "\n",
      "           0       0.76      0.84      0.80        96\n",
      "           1       0.79      0.70      0.74        82\n",
      "\n",
      "    accuracy                           0.78       178\n",
      "   macro avg       0.78      0.77      0.77       178\n",
      "weighted avg       0.78      0.78      0.77       178\n",
      "\n"
     ]
    }
   ],
   "source": [
    "from sklearn.metrics import confusion_matrix, classification_report\n",
    "\n",
    "print(\"Confusion Matrix (Logistic Regression):\")\n",
    "print(confusion_matrix(y_test, y_pred_test))\n",
    "\n",
    "print(\"\\nClassification Report (Logistic Regression):\")\n",
    "print(classification_report(y_test, y_pred_test))\n",
    "\n"
   ]
  },
  {
   "cell_type": "markdown",
   "metadata": {
    "id": "yFxPFagsE9mS"
   },
   "source": [
    "## Section 5: Try Another Model"
   ]
  },
  {
   "cell_type": "markdown",
   "metadata": {
    "id": "IZwIOzHXFD1a"
   },
   "source": [
    "### **Task 5**:  Random Forest Classifier\n",
    "\n",
    "*Instruction*: Train a `RandomForestClassifier` and compare its performance with Logistic Regression.\n"
   ]
  },
  {
   "cell_type": "code",
   "execution_count": 16,
   "metadata": {
    "id": "VpUFTR1JFDWk"
   },
   "outputs": [
    {
     "name": "stdout",
     "output_type": "stream",
     "text": [
      "Train Accuracy (Random Forest): 0.9844632768361582\n",
      "Test Accuracy (Random Forest): 0.8202247191011236\n",
      "\n",
      "Confusion Matrix (Random Forest):\n",
      "[[81 15]\n",
      " [17 65]]\n",
      "\n",
      "Classification Report (Random Forest):\n",
      "              precision    recall  f1-score   support\n",
      "\n",
      "           0       0.83      0.84      0.84        96\n",
      "           1       0.81      0.79      0.80        82\n",
      "\n",
      "    accuracy                           0.82       178\n",
      "   macro avg       0.82      0.82      0.82       178\n",
      "weighted avg       0.82      0.82      0.82       178\n",
      "\n"
     ]
    }
   ],
   "source": [
    "from sklearn.ensemble import RandomForestClassifier\n",
    "\n",
    "rf = RandomForestClassifier(random_state=42)\n",
    "rf.fit(X_train, y_train)\n",
    "\n",
    "y_pred_rf_train = rf.predict(X_train)\n",
    "y_pred_rf_test = rf.predict(X_test)\n",
    "\n",
    "print(\"Train Accuracy (Random Forest):\", accuracy_score(y_train, y_pred_rf_train))\n",
    "print(\"Test Accuracy (Random Forest):\", accuracy_score(y_test, y_pred_rf_test))\n",
    "\n",
    "print(\"\\nConfusion Matrix (Random Forest):\")\n",
    "print(confusion_matrix(y_test, y_pred_rf_test))\n",
    "\n",
    "print(\"\\nClassification Report (Random Forest):\")\n",
    "print(classification_report(y_test, y_pred_rf_test))\n",
    "\n"
   ]
  },
  {
   "cell_type": "markdown",
   "metadata": {
    "id": "w-OY1jI5IaIB"
   },
   "source": [
    "## Section 6: Model Tuning"
   ]
  },
  {
   "cell_type": "markdown",
   "metadata": {
    "id": "xeBCcr3RIi-8"
   },
   "source": [
    "### **Task 6**: Hyperparameter Tuning (GridSearch)\n",
    "\n",
    "*Instruction*:Use `GridSearchCV` to tune `n_estimators` and `max_depth` of the Random Forest model."
   ]
  },
  {
   "cell_type": "code",
   "execution_count": 17,
   "metadata": {
    "id": "gSza6VScIakN"
   },
   "outputs": [
    {
     "name": "stdout",
     "output_type": "stream",
     "text": [
      "Fitting 5 folds for each of 15 candidates, totalling 75 fits\n",
      "Best Parameters: {'max_depth': 6, 'n_estimators': 50}\n",
      "\n",
      "Test Accuracy (Tuned Random Forest): 0.8146067415730337\n",
      "\n",
      "Confusion Matrix (Tuned RF):\n",
      "[[83 13]\n",
      " [20 62]]\n",
      "\n",
      "Classification Report (Tuned RF):\n",
      "              precision    recall  f1-score   support\n",
      "\n",
      "           0       0.81      0.86      0.83        96\n",
      "           1       0.83      0.76      0.79        82\n",
      "\n",
      "    accuracy                           0.81       178\n",
      "   macro avg       0.82      0.81      0.81       178\n",
      "weighted avg       0.82      0.81      0.81       178\n",
      "\n"
     ]
    }
   ],
   "source": [
    "\n",
    "from sklearn.model_selection import GridSearchCV\n",
    "\n",
    "param_grid = {\n",
    "    'n_estimators': [50, 100, 200],\n",
    "    'max_depth': [4, 6, 8, 10, None]\n",
    "}\n",
    "\n",
    "rf = RandomForestClassifier(random_state=42)\n",
    "\n",
    "grid_search = GridSearchCV(\n",
    "    estimator=rf,\n",
    "    param_grid=param_grid,\n",
    "    cv=5,  # 5-fold cross-validation\n",
    "    scoring='accuracy',\n",
    "    n_jobs=-1,\n",
    "    verbose=1\n",
    ")\n",
    "\n",
    "grid_search.fit(X_train, y_train)\n",
    "\n",
    "print(\"Best Parameters:\", grid_search.best_params_)\n",
    "\n",
    "best_rf = grid_search.best_estimator_\n",
    "y_pred_best_rf = best_rf.predict(X_test)\n",
    "\n",
    "from sklearn.metrics import accuracy_score, classification_report, confusion_matrix\n",
    "\n",
    "print(\"\\nTest Accuracy (Tuned Random Forest):\", accuracy_score(y_test, y_pred_best_rf))\n",
    "print(\"\\nConfusion Matrix (Tuned RF):\")\n",
    "print(confusion_matrix(y_test, y_pred_best_rf))\n",
    "print(\"\\nClassification Report (Tuned RF):\")\n",
    "print(classification_report(y_test, y_pred_best_rf))\n"
   ]
  },
  {
   "cell_type": "code",
   "execution_count": null,
   "metadata": {},
   "outputs": [],
   "source": []
  },
  {
   "cell_type": "code",
   "execution_count": null,
   "metadata": {},
   "outputs": [],
   "source": []
  }
 ],
 "metadata": {
  "colab": {
   "authorship_tag": "ABX9TyMmeoduhCoaNr3zrwBNxmx7",
   "provenance": []
  },
  "kernelspec": {
   "display_name": "Python (base - Miniconda)",
   "language": "python",
   "name": "base"
  },
  "language_info": {
   "codemirror_mode": {
    "name": "ipython",
    "version": 3
   },
   "file_extension": ".py",
   "mimetype": "text/x-python",
   "name": "python",
   "nbconvert_exporter": "python",
   "pygments_lexer": "ipython3",
   "version": "3.12.9"
  }
 },
 "nbformat": 4,
 "nbformat_minor": 4
}
